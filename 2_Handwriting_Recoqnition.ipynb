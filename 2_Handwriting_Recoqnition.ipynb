{
  "nbformat": 4,
  "nbformat_minor": 0,
  "metadata": {
    "colab": {
      "name": "2. Handwriting Recoqnition",
      "provenance": [],
      "authorship_tag": "ABX9TyNpRjYTEm0xxU4yuYYUE9d7",
      "include_colab_link": true
    },
    "kernelspec": {
      "display_name": "Python 3",
      "name": "python3"
    },
    "language_info": {
      "name": "python"
    }
  },
  "cells": [
    {
      "cell_type": "markdown",
      "metadata": {
        "id": "view-in-github",
        "colab_type": "text"
      },
      "source": [
        "<a href=\"https://colab.research.google.com/github/andijosua/Learning/blob/main/2_Handwriting_Recoqnition.ipynb\" target=\"_parent\"><img src=\"https://colab.research.google.com/assets/colab-badge.svg\" alt=\"Open In Colab\"/></a>"
      ]
    },
    {
      "cell_type": "code",
      "metadata": {
        "colab": {
          "base_uri": "https://localhost:8080/"
        },
        "id": "Sav3xxAwjPyp",
        "outputId": "0a87fbfb-6959-4d04-c422-609b3068256a"
      },
      "source": [
        "# Mount Google Drive directory to access mnist.npz from tmp2 in Google Drive.\n",
        "from google.colab import drive\n",
        "drive.mount('/content/drive')"
      ],
      "execution_count": null,
      "outputs": [
        {
          "output_type": "stream",
          "text": [
            "Mounted at /content/drive\n"
          ],
          "name": "stdout"
        }
      ]
    },
    {
      "cell_type": "code",
      "metadata": {
        "id": "iba181JsjjJQ"
      },
      "source": [
        "import tensorflow as tf\n",
        "from os import path, getcwd, chdir\n",
        "\n",
        "path = f\"{getcwd()}/drive/My Drive/TensorFlow In Practice/1. Introduction to TensorFlow/Exercises/tmp2/mnist.npz\""
      ],
      "execution_count": null,
      "outputs": []
    },
    {
      "cell_type": "code",
      "metadata": {
        "id": "RYnzrFXrkP0U"
      },
      "source": [
        "def train_mnist():\n",
        "    # Please write your code only where you are indicated.\n",
        "    # please do not remove # model fitting inline comments.\n",
        "\n",
        "    # YOUR CODE SHOULD START HERE\n",
        "    # IMPORTANT: Change 'accuracy' to 'acc' for Coursera autograder!\n",
        "    class myCallback(tf.keras.callbacks.Callback):\n",
        "      def on_epoch_end(self, epoch, logs={}):\n",
        "                       if(logs.get('accuracy')>0.99):\n",
        "                         print(\"\\nReached 99% accuracy so cancelling training!\")\n",
        "                         self.model.stop_training = True\n",
        "\n",
        "    mnist = tf.keras.datasets.mnist\n",
        "    # YOUR CODE SHOULD END HERE\n",
        "    (x_train, y_train),(x_test, y_test) = mnist.load_data()\n",
        "    x_train, x_test = x_train / 255.0, x_test / 255.0\n",
        "    \n",
        "    callbacks = myCallback()\n",
        "    \n",
        "    # YOUR CODE SHOULD END HERE\n",
        "    model = tf.keras.models.Sequential([\n",
        "                  tf.keras.layers.Flatten(input_shape = (28, 28)),\n",
        "                  tf.keras.layers.Dense(512, activation = 'relu'),\n",
        "                  tf.keras.layers.Dense(10, activation = 'softmax')\n",
        "\n",
        "    ])\n",
        "\n",
        "    # IMPORTANT: Change 'accuracy' to 'acc' for Coursera autograder!\n",
        "    model.compile(optimizer='adam',\n",
        "                  loss='sparse_categorical_crossentropy',\n",
        "                  metrics=['accuracy'])\n",
        "    \n",
        "    # model fitting\n",
        "    history = model.fit(x_train, y_train, epochs=10, callbacks = [callbacks])\n",
        "    # model fitting\n",
        "    # Return last computed loss and accuracy!\n",
        "    # IMPORTANT: Change 'accuracy' to 'acc' for Coursera autograder!\n",
        "    return history.epoch, history.history['accuracy'][-1]"
      ],
      "execution_count": null,
      "outputs": []
    },
    {
      "cell_type": "code",
      "metadata": {
        "colab": {
          "background_save": true,
          "base_uri": "https://localhost:8080/"
        },
        "id": "96aKBTfsnqOL",
        "outputId": "30ac3ad4-ccb4-4ff2-ce32-97e1987c96d9"
      },
      "source": [
        "train_mnist()"
      ],
      "execution_count": null,
      "outputs": [
        {
          "output_type": "stream",
          "text": [
            "Downloading data from https://storage.googleapis.com/tensorflow/tf-keras-datasets/mnist.npz\n",
            "11493376/11490434 [==============================] - 0s 0us/step\n",
            "Epoch 1/10\n",
            "1875/1875 [==============================] - 11s 5ms/step - loss: 0.2042 - accuracy: 0.9406\n",
            "Epoch 2/10\n",
            "1875/1875 [==============================] - 9s 5ms/step - loss: 0.0809 - accuracy: 0.9755\n",
            "Epoch 3/10\n",
            "1875/1875 [==============================] - 9s 5ms/step - loss: 0.0516 - accuracy: 0.9839\n",
            "Epoch 4/10\n",
            "1875/1875 [==============================] - 10s 5ms/step - loss: 0.0380 - accuracy: 0.9879\n",
            "Epoch 5/10\n",
            "1875/1875 [==============================] - 9s 5ms/step - loss: 0.0267 - accuracy: 0.9917\n",
            "\n",
            "Reached 99% accuracy so cancelling training!\n"
          ],
          "name": "stdout"
        },
        {
          "output_type": "execute_result",
          "data": {
            "text/plain": [
              "([0, 1, 2, 3, 4], 0.9917333126068115)"
            ]
          },
          "metadata": {
            "tags": []
          },
          "execution_count": 0
        }
      ]
    },
    {
      "cell_type": "code",
      "metadata": {
        "id": "KkL3r-z_o8nP"
      },
      "source": [
        ""
      ],
      "execution_count": null,
      "outputs": []
    }
  ]
}