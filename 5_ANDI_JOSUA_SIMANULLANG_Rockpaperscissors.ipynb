{
  "nbformat": 4,
  "nbformat_minor": 0,
  "metadata": {
    "colab": {
      "name": "5. ANDI_JOSUA_SIMANULLANG-Rockpaperscissors.ipynb",
      "provenance": [],
      "authorship_tag": "ABX9TyNyruVpPENuJxFDdD+h5LkY",
      "include_colab_link": true
    },
    "kernelspec": {
      "name": "python3",
      "display_name": "Python 3"
    },
    "accelerator": "GPU"
  },
  "cells": [
    {
      "cell_type": "markdown",
      "metadata": {
        "id": "view-in-github",
        "colab_type": "text"
      },
      "source": [
        "<a href=\"https://colab.research.google.com/github/andijosua/Learning/blob/main/5_ANDI_JOSUA_SIMANULLANG_Rockpaperscissors.ipynb\" target=\"_parent\"><img src=\"https://colab.research.google.com/assets/colab-badge.svg\" alt=\"Open In Colab\"/></a>"
      ]
    },
    {
      "cell_type": "markdown",
      "metadata": {
        "id": "UBuYqMJYEVVl"
      },
      "source": [
        "**Andi Josua Simanullang**\n",
        "Submission rockpaperscissors\n",
        "\n"
      ]
    },
    {
      "cell_type": "code",
      "metadata": {
        "id": "MSg1_snc3UFf"
      },
      "source": [
        "import tensorflow as tf\n",
        "import os\n",
        "import shutil\n",
        "from sklearn.model_selection import train_test_split\n",
        "from tensorflow.keras.optimizers import RMSprop\n",
        "from tensorflow.keras.preprocessing.image import ImageDataGenerator\n",
        "import matplotlib.pyplot as plt"
      ],
      "execution_count": null,
      "outputs": []
    },
    {
      "cell_type": "code",
      "metadata": {
        "id": "ndFj7Mmy-49F",
        "colab": {
          "base_uri": "https://localhost:8080/"
        },
        "outputId": "011a69d9-670a-4eac-ab89-11e426b73404"
      },
      "source": [
        "!wget --no-check-certificate \\\n",
        "  https://dicodingacademy.blob.core.windows.net/picodiploma/ml_pemula_academy/rockpaperscissors.zip \\\n",
        "  -O /tmp/rockpaperscissors.zip\n"
      ],
      "execution_count": null,
      "outputs": [
        {
          "output_type": "stream",
          "text": [
            "--2020-11-10 05:02:21--  https://dicodingacademy.blob.core.windows.net/picodiploma/ml_pemula_academy/rockpaperscissors.zip\n",
            "Resolving dicodingacademy.blob.core.windows.net (dicodingacademy.blob.core.windows.net)... 52.239.197.36\n",
            "Connecting to dicodingacademy.blob.core.windows.net (dicodingacademy.blob.core.windows.net)|52.239.197.36|:443... connected.\n",
            "HTTP request sent, awaiting response... 200 OK\n",
            "Length: 322873683 (308M) [application/zip]\n",
            "Saving to: ‘/tmp/rockpaperscissors.zip’\n",
            "\n",
            "/tmp/rockpapersciss 100%[===================>] 307.92M  8.81MB/s    in 43s     \n",
            "\n",
            "2020-11-10 05:03:05 (7.10 MB/s) - ‘/tmp/rockpaperscissors.zip’ saved [322873683/322873683]\n",
            "\n"
          ],
          "name": "stdout"
        }
      ]
    },
    {
      "cell_type": "code",
      "metadata": {
        "id": "5DUawsDg_noV"
      },
      "source": [
        "# melakkukan ekstraksi pada file zip yang sudah didownload\n",
        "import zipfile\n",
        "local_zip = '/tmp/rockpaperscissors.zip'\n",
        "zip_ref = zipfile.ZipFile(local_zip,'r')\n",
        "zip_ref.extractall('/tmp')\n",
        "zip_ref.close()"
      ],
      "execution_count": null,
      "outputs": []
    },
    {
      "cell_type": "code",
      "metadata": {
        "id": "wa9gelYcC4Rs"
      },
      "source": [
        "# membuat nama directory\n",
        "base_directory = '/tmp/rockpaperscissors/rps-cv-images'\n",
        "rock_directory = os.path.join(base_directory,'rock')\n",
        "paper_directory = os.path.join(base_directory, 'paper')\n",
        "scissors_directory = os.path.join(base_directory, 'scissors')\n",
        "\n",
        "# membuat direktori train dan validation\n",
        "# Karena sebelumnya directory untuk train dan validation belum ada, maka sekarang kita buat directorynya terlebih dahulu\n",
        "train_directory = os.path.join(base_directory,'train')\n",
        "validation_directory = os.path.join(base_directory, 'validation')\n",
        "\n",
        "# Fungsi yang dapat digunakan untuk membuat directory/path baru adalah \"os.mkdir\"\n",
        "if not os.path.exists(train_directory):\n",
        "    os.mkdir(train_directory)\n",
        "\n",
        "if not os.path.exists(validation_directory):\n",
        "    os.mkdir(validation_directory)\n",
        "\n",
        "# Berdasarkan bantuan kak Aninditya Anggari pada forum diskusi, maka perintah akan membuat path baru apabila filenya belum exist\n",
        "# Apabila file yang dimaksud sudah exist, maka perintah membuat path tidak akan dijalankan"
      ],
      "execution_count": null,
      "outputs": []
    },
    {
      "cell_type": "code",
      "metadata": {
        "id": "tUq85D051kWz"
      },
      "source": [
        "# membagi total data rock, scissors, dan paper menjadi 40% validation's data dan 60% lainnya sebagai training's data\n",
        "train_rock_dir, validation_rock_dir = train_test_split(os.listdir(rock_directory), test_size = 0.40)\n",
        "train_paper_dir, validation_paper_dir = train_test_split(os.listdir(paper_directory), test_size = 0.40)\n",
        "train_scissors_dir, validation_scissors_dir = train_test_split(os.listdir(scissors_directory), test_size = 0.40)"
      ],
      "execution_count": null,
      "outputs": []
    },
    {
      "cell_type": "code",
      "metadata": {
        "id": "N3wp2gsdduAE"
      },
      "source": [
        "#Setelah data dari ketiga kelas di atas dibagi menjadi 40% validation's data dan 60% lainnya sebagai training's data\n",
        "#Sekarang kita membuat directory untuk menyimpan hasil split data dari ketiga kelas tersebut\n",
        "# Langkah pertama adalag dengan membuat nama directory-nya\n",
        "\n",
        "train_rock = os.path.join(train_directory, 'rock')\n",
        "train_paper = os.path.join(train_directory, 'paper')\n",
        "train_scissors = os.path.join(train_directory, 'scissors')\n",
        "validation_rock = os.path.join(validation_directory, 'rock')\n",
        "validation_paper = os.path.join(validation_directory, 'paper')\n",
        "validation_scissors = os.path.join(validation_directory, 'scissors')\n",
        "\n",
        "# Keenam sub-directory di atas berada pada dalam train_directory dan validation_directory\n",
        "# Fungsi yang dapat digunakan untuk membuat directory/path baru adalah \"os.mkdir\"\n",
        "# Berdasarkan bantuan kak Aninditya Anggari pada forum diskusi, maka perintah membuat path baru apabila filenya belum exist\n",
        "# Apabila file yang dimaksud sudah exist, maka perintah akan membuat path tidak akan dijalankan\n",
        "if not os.path.exists(train_rock):\n",
        "    os.mkdir(train_rock)\n",
        "if not os.path.exists(train_paper):  \n",
        "    os.mkdir(train_paper)\n",
        "if not os.path.exists(train_scissors):\n",
        "    os.mkdir(train_scissors)\n",
        "if not os.path.exists(validation_rock):\n",
        "    os.mkdir(validation_rock)\n",
        "if not os.path.exists(validation_paper):\n",
        "    os.mkdir(validation_paper)\n",
        "if not os.path.exists(validation_scissors):\n",
        "    os.mkdir(validation_scissors)"
      ],
      "execution_count": null,
      "outputs": []
    },
    {
      "cell_type": "code",
      "metadata": {
        "id": "4qSDpUMX5LwR"
      },
      "source": [
        "#Setelah kita membuat directory untuk menyimpan data training dan data validation dari ketiga kelas di atas\n",
        "#Maka saatnya kita meamasukkan data hasil split tersebut ke directorynya masing-masing\n",
        "#Tools yang dapat kita gunakan adalah \"shutil. copy ( src , dest )\" https://www.pythonforbeginners.com/os/python-the-shutil-module\n",
        "\n",
        "for file in train_rock_dir: #train_rock_dir adalah data training untuk rock \n",
        "    shutil.copy(os.path.join(rock_directory, file), os.path.join(train_rock, file)) # Semua data train_rock_dir dari rock_directory akan dicopy ke directory train_rock\n",
        "for file in train_paper_dir:                                                      \n",
        "    shutil.copy(os.path.join(paper_directory,file), os.path.join(train_paper,file))\n",
        "for file in train_scissors_dir:\n",
        "    shutil.copy(os.path.join(scissors_directory,file), os.path.join(train_scissors,file))\n",
        "for file in validation_rock_dir:\n",
        "    shutil.copy(os.path.join(rock_directory, file), os.path.join(validation_rock,file))\n",
        "for file in validation_paper_dir:\n",
        "    shutil.copy(os.path.join(paper_directory,file), os.path.join(validation_paper,file))\n",
        "for file in validation_scissors_dir:\n",
        "    shutil.copy(os.path.join(scissors_directory,file), os.path.join(validation_scissors,file))\n"
      ],
      "execution_count": null,
      "outputs": []
    },
    {
      "cell_type": "code",
      "metadata": {
        "id": "oCNsJnFZARD4",
        "colab": {
          "base_uri": "https://localhost:8080/"
        },
        "outputId": "cc838e2a-bd1d-4104-da7f-6e4b4f9bd628"
      },
      "source": [
        "# Selanjutnya melakukan augmentasi gambar menggunakan ImageDataGenerator\n",
        "#Pertama kita lakukan untuk data training\n",
        "train_datagen = ImageDataGenerator(\n",
        "        rescale = 1./255,       # Nilai pixel adalah antara 0 -255, dengan menggunakan fungsi rescale=1/255 maka datanya menjadi antara 0 - 1\n",
        "\t      rotation_range=30,      # Besar rentang derajat untuk rotasi acak\n",
        "        width_shift_range=0.2,  # Rentang nilai untuk pergeseran horizontal acak \n",
        "        height_shift_range=0.2, # Rentang nilai untuk satu pergeseran vertikal acak\n",
        "        shear_range=0.2,        # Sudut geser pada arah berlawanan jarum jam (radian)\n",
        "        zoom_range=0.2,         # Rentang nilai untuk pembesaran secara acah\n",
        "        horizontal_flip=True,   #Gambarnya akan diflip secara horizontal\n",
        "        fill_mode='nearest')    #Titik di luar batas input diisi sesuai dengan mode yang diberikan\n",
        "\n",
        "train_generator = train_datagen.flow_from_directory(\n",
        "\t      train_directory,          # direktori data train\n",
        "\t      target_size=(150,100),    # mengubah resolusi seluruh gambar menjadi 150x100 piksel\n",
        "\t      class_mode='categorical', #karena merupakan klasifikasi 3 buah kelas maka menggunakan class_mode = 'categorial'\n",
        "        batch_size=32             #Karena ada 1312 sampel data training, batch_size yang kita pilih adalah 32(Faktor dari 1312)\n",
        ")                           #Maka jumlah iterasi dalam sekali epoch berjumlah 41 kali, sumber: https://imam.digmi.id/post/memahami-epoch-batch-size-dan-iteration/\n",
        "\n",
        "#Selanjutnya kita lakukan untuk data validation\n",
        "validation_datagen = ImageDataGenerator(\n",
        "        rescale = 1./255,\n",
        "\t      rotation_range=30,\n",
        "        width_shift_range=0.2,\n",
        "        height_shift_range=0.2,\n",
        "        shear_range=0.2,\n",
        "        zoom_range=0.2,\n",
        "        horizontal_flip=True,\n",
        "        fill_mode='nearest')\n",
        "\n",
        "validation_generator = validation_datagen.flow_from_directory(\n",
        "\t      validation_directory,      # Direktori data validation\n",
        "\t      target_size=(150,100),     # Mengubah resolusi seluruh gambar menjadi 150x100 piksel\n",
        "\t      class_mode='categorical',  # karena merupakan klasifikasi 3 buah kelas maka menggunakan class_mode = 'categorial'\n",
        "        batch_size=32              # Karena batch_size 32, maka jumlah iterasi dalam sekali epoch adalah 27,375\n",
        ")                                  # Iterasinya dibulatkan menjadi 27 kali dalam 1 epoch, ketika saya coba sebesar 28 kali terjadi error  "
      ],
      "execution_count": null,
      "outputs": [
        {
          "output_type": "stream",
          "text": [
            "Found 2035 images belonging to 3 classes.\n",
            "Found 1709 images belonging to 3 classes.\n"
          ],
          "name": "stdout"
        }
      ]
    },
    {
      "cell_type": "code",
      "metadata": {
        "id": "90Hljl2LM15q"
      },
      "source": [
        "# membuat model sequential\n",
        "model = tf.keras.models.Sequential([\n",
        "      tf.keras.layers.Conv2D(32, (3,3), activation = 'relu', input_shape= (150,100,3)), #Kita konvolusi menjadi 32 bagian berukuran 3x3, (150,100) adalah Ukuran pixel input, 3 adalah RGB\n",
        "      tf.keras.layers.MaxPooling2D(2,2),                     # Dengan filter 2x2, kita ambil nilai maximum pada tiap area pergeseran filter \n",
        "      tf.keras.layers.Conv2D(64,(3,3), activation= 'relu'),  # Kemudian dikonvolusikan kembali menjadi 64 bagian berukuran 3x3\n",
        "      tf.keras.layers.MaxPooling2D(2,2),                     # Dengan filter 2x2, kita ambil nilai maximum pada tiap area pergeseran filter \n",
        "      tf.keras.layers.Conv2D(128,(3,3), activation= 'relu'), # Kemudian dikonvolusikan kembali menjadi 128 bagian berukuran 3x3\n",
        "      tf.keras.layers.MaxPooling2D(2,2),                     # Dengan filter 2x2, kita ambil nilai maximum pada tiap area pergeseran filter\n",
        "      tf.keras.layers.Conv2D(256,(3,3), activation= 'relu'), # Kemudian dikonvolusikan kembali menjadi 256 bagian berukuran 3x3\n",
        "      tf.keras.layers.MaxPooling2D(2,2),                     # Dengan filter 2x2, kita ambil nilai maximum pada tiap area pergeseran filter\n",
        "      tf.keras.layers.Dropout(0.2),                          # Mencegah overfitting\n",
        "      tf.keras.layers.Flatten(),                             # Untuk membuat semua matriks menjadi berukuran single vektor dan menjadi input bagi layer berikutnya\n",
        "      tf.keras.layers.Dense(512, activation= 'relu'),       \n",
        "      tf.keras.layers.Dense(3, activation= 'softmax')        # Angka 3 menunjukkan jumlah kelas\n",
        "])                                                       # Kita menggunakan softmax karena dapat melakukan prediksi untuk multiclass\n",
        "\n"
      ],
      "execution_count": null,
      "outputs": []
    },
    {
      "cell_type": "code",
      "metadata": {
        "id": "yguz1nWgtvet"
      },
      "source": [
        "# Supaya model yang telah dibuat bisa belajar, kita panggil fungsi compile \n",
        "# Model compile yang kita gunakan adalah loss function serta optimizer\n",
        "model.compile(loss='categorical_crossentropy',\n",
        "              optimizer=tf.optimizers.Adam(),\n",
        "              metrics=['accuracy'])           # Metrics berfungsi untuk menampilkan metrik yang dipilih pada proses pelatihan model"
      ],
      "execution_count": null,
      "outputs": []
    },
    {
      "cell_type": "code",
      "metadata": {
        "id": "Tt1ko0Z6u9Z8",
        "colab": {
          "base_uri": "https://localhost:8080/",
          "height": 941
        },
        "outputId": "8b04cd94-4ad2-44f0-c17c-8bccd6eff614"
      },
      "source": [
        "# Melakukan pelatihan model menggunakan metode fit\n",
        "# Dengan menggunakan image data generator, kita tidak perlu memasukkan parameter gambar dan labelnya\n",
        "# Imagedatagenerator secara otomatis melabeli sebuah gambar sesuai dengan direktori di mana ia disimpan\n",
        "\n",
        "# Steps_per_epoch = Datasets/Batch.\n",
        "# Batch = 32, Datasets Training = 1312, Datasets Validation = 876\n",
        "\n",
        "# Sebelumnya, Kita dapat menggunakan callback\n",
        "# Callback berfungsi mencegah overfitting\n",
        "# Selain itu callback juga dapat digunakan membuat treshold accuracy untuk menghentikan pelatihan\n",
        "# Sehingga looping pelatihan akan berhenti saat threshold accuracy terpenuhi \n",
        "\n",
        "class myCallback(tf.keras.callbacks.Callback):\n",
        "    def on_epoch_end(self, epoch, logs={}):\n",
        "      if(logs.get('accuracy') > 0.98):            # Threshold accuracy saya buat 0.98, karena awalnya saya buat 0.96 tapi masih salah prediksi\n",
        "        print(\"\\nAkurasi tercapai\")\n",
        "        self.model.stop_training = True\n",
        "callbacks = myCallback() \n",
        "\n",
        "history = model.fit(\n",
        "    train_generator,\n",
        "    steps_per_epoch = 41,                   # Menunjukkan jumlah iterasi dalam sekali epoch training.\n",
        "    epochs = 100,                            \n",
        "    validation_data = validation_generator,\n",
        "    validation_steps = 27,                  # Menunjukkan jumlah iterasi dalam sekali epoch validation \n",
        "    verbose =2,\n",
        "      callbacks=[callbacks]\n",
        ")\n",
        "\n",
        "# Semakin besar epoch, maka pemodelan akan semakin lama. Namun, accuracy semakin baik.\n",
        "# Namun karena kita sudah menggunakan callback, maka epoch akan berhenti saat threshold akurasi tercapai\n",
        "\n",
        "\n",
        "#Kemudian kita tunjukkan accuracy taining dan validation dalam grafik\n",
        "\n",
        "plt.plot(history.history['accuracy'], label='Akurasi Training')\n",
        "plt.plot(history.history['val_accuracy'], label='Akurasi Validation')\n",
        "plt.title('Accuracy Shown in Plot')\n",
        "plt.ylabel('Nilai')\n",
        "plt.xlabel('Epoch')\n",
        "plt.legend(loc=\"lower right\")\n",
        "plt.show()"
      ],
      "execution_count": null,
      "outputs": [
        {
          "output_type": "stream",
          "text": [
            "Epoch 1/100\n",
            "41/41 - 13s - loss: 1.0385 - accuracy: 0.4326 - val_loss: 0.9269 - val_accuracy: 0.5312\n",
            "Epoch 2/100\n",
            "41/41 - 12s - loss: 0.7619 - accuracy: 0.6105 - val_loss: 0.6208 - val_accuracy: 0.6944\n",
            "Epoch 3/100\n",
            "41/41 - 12s - loss: 0.4869 - accuracy: 0.8068 - val_loss: 0.3453 - val_accuracy: 0.8947\n",
            "Epoch 4/100\n",
            "41/41 - 12s - loss: 0.2651 - accuracy: 0.9276 - val_loss: 0.2029 - val_accuracy: 0.9375\n",
            "Epoch 5/100\n",
            "41/41 - 12s - loss: 0.2041 - accuracy: 0.9307 - val_loss: 0.1733 - val_accuracy: 0.9363\n",
            "Epoch 6/100\n",
            "41/41 - 12s - loss: 0.1661 - accuracy: 0.9474 - val_loss: 0.4364 - val_accuracy: 0.8773\n",
            "Epoch 7/100\n",
            "41/41 - 12s - loss: 0.1519 - accuracy: 0.9527 - val_loss: 0.1637 - val_accuracy: 0.9514\n",
            "Epoch 8/100\n",
            "41/41 - 12s - loss: 0.1398 - accuracy: 0.9554 - val_loss: 0.1253 - val_accuracy: 0.9583\n",
            "Epoch 9/100\n",
            "41/41 - 12s - loss: 0.1265 - accuracy: 0.9566 - val_loss: 0.1696 - val_accuracy: 0.9410\n",
            "Epoch 10/100\n",
            "41/41 - 12s - loss: 0.0916 - accuracy: 0.9707 - val_loss: 0.1535 - val_accuracy: 0.9583\n",
            "Epoch 11/100\n",
            "41/41 - 12s - loss: 0.0948 - accuracy: 0.9654 - val_loss: 0.0797 - val_accuracy: 0.9792\n",
            "Epoch 12/100\n",
            "41/41 - 12s - loss: 0.1049 - accuracy: 0.9680 - val_loss: 0.0741 - val_accuracy: 0.9792\n",
            "Epoch 13/100\n",
            "41/41 - 12s - loss: 0.0916 - accuracy: 0.9746 - val_loss: 0.0632 - val_accuracy: 0.9826\n",
            "Epoch 14/100\n",
            "41/41 - 12s - loss: 0.0836 - accuracy: 0.9777 - val_loss: 0.0723 - val_accuracy: 0.9803\n",
            "Epoch 15/100\n",
            "41/41 - 12s - loss: 0.0911 - accuracy: 0.9718 - val_loss: 0.0697 - val_accuracy: 0.9803\n",
            "Epoch 16/100\n",
            "41/41 - 12s - loss: 0.1189 - accuracy: 0.9649 - val_loss: 0.1178 - val_accuracy: 0.9641\n",
            "Epoch 17/100\n",
            "41/41 - 12s - loss: 0.0824 - accuracy: 0.9761 - val_loss: 0.0569 - val_accuracy: 0.9792\n",
            "Epoch 18/100\n",
            "\n",
            "Akurasi tercapai\n",
            "41/41 - 12s - loss: 0.0585 - accuracy: 0.9855 - val_loss: 0.0568 - val_accuracy: 0.9896\n"
          ],
          "name": "stdout"
        },
        {
          "output_type": "display_data",
          "data": {
            "image/png": "[encoded data removed]",
            "text/plain": [
              "<Figure size 432x288 with 1 Axes>"
            ]
          },
          "metadata": {
            "tags": [],
            "needs_background": "light"
          }
        }
      ]
    },
    {
      "cell_type": "code",
      "metadata": {
        "id": "TtXnNgik_wEK"
      },
      "source": [
        "# Kemudian kita membuat section untuk memungkinkan kita untuk secara interaktif memilih sebuah berkas gambar lalu mengujinya\n",
        "# kemudian melakukan resize gambar dan mengubahnya menjadi larik numpy\n",
        "# Kodenya dapat mengikuti pada Modul Latihan Membuat Model Klasifikasi Gambar\n",
        "\n",
        "import numpy as np\n",
        "from google.colab import files\n",
        "from keras.preprocessing import image\n",
        "import matplotlib.image as mpimg\n",
        "%matplotlib inline\n",
        "\n",
        "uploaded = files.upload()\n",
        "\n",
        "for fn in uploaded.keys():\n",
        "  # Memprediksi gambar\n",
        "    path = fn \n",
        "    img = image.load_img(path, target_size = (150,100))\n",
        "    imgplot = plt.imshow(img)\n",
        "    x = image.img_to_array(img)\n",
        "    x = np.expand_dims(x, axis=0)\n",
        "\n",
        "    images = np.vstack([x])\n",
        "    classes = model.predict(images, batch_size = 32)\n",
        "\n",
        "    print(fn)\n",
        "    if classes[0,0]!= 0:\n",
        "      print('paper')\n",
        "    elif classes[0,1]!= 0:\n",
        "      print('rock')\n",
        "    else:\n",
        "      print('scissors')"
      ],
      "execution_count": null,
      "outputs": []
    }
  ]
}