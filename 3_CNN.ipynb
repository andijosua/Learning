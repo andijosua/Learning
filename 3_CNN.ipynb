{
  "nbformat": 4,
  "nbformat_minor": 0,
  "metadata": {
    "colab": {
      "name": "3. CNN",
      "provenance": [],
      "authorship_tag": "ABX9TyOf/DE/wHg8w6NfIJRQoGgM",
      "include_colab_link": true
    },
    "kernelspec": {
      "name": "python3",
      "display_name": "Python 3"
    },
    "language_info": {
      "name": "python"
    }
  },
  "cells": [
    {
      "cell_type": "markdown",
      "metadata": {
        "id": "view-in-github",
        "colab_type": "text"
      },
      "source": [
        "<a href=\"https://colab.research.google.com/github/andijosua/Learning/blob/main/3_CNN.ipynb\" target=\"_parent\"><img src=\"https://colab.research.google.com/assets/colab-badge.svg\" alt=\"Open In Colab\"/></a>"
      ]
    },
    {
      "cell_type": "code",
      "metadata": {
        "id": "AmVwBPWlzIh-",
        "colab": {
          "base_uri": "https://localhost:8080/"
        },
        "outputId": "426907b5-0da9-4b54-a152-3c1adee81deb"
      },
      "source": [
        "\n",
        "# Mount Google Drive directory to access mnist.npz from tmp2 in Google Drive.\n",
        "from google.colab import drive\n",
        "drive.mount('/content/drive')"
      ],
      "execution_count": null,
      "outputs": [
        {
          "output_type": "stream",
          "text": [
            "Mounted at /content/drive\n"
          ],
          "name": "stdout"
        }
      ]
    },
    {
      "cell_type": "code",
      "metadata": {
        "id": "iAPw0s0h3CEo"
      },
      "source": [
        "import tensorflow as tf\n",
        "from os import path, getcwd, chdir\n",
        "\n",
        "# DO NOT CHANGE THE LINE BELOW. If you are developing in a local\n",
        "# environment, then grab mnist.npz from the Coursera Jupyter Notebook\n",
        "# and place it inside a local folder and edit the path to that location\n",
        "\n",
        "# Path for Coursera Jupyter autograder:\n",
        "# path = f\"{getcwd()}/../tmp2/mnist.npz\"\n",
        "\n",
        "# Path to mnist.npz in Google Drive:\n",
        "path = f\"{getcwd()}/drive/My Drive/TensorFlow In Practice/1. Introduction to TensorFlow/Exercises/tmp2/mnist.npz\""
      ],
      "execution_count": null,
      "outputs": []
    },
    {
      "cell_type": "code",
      "metadata": {
        "id": "cpmoW2fb3cob"
      },
      "source": [
        "# GRADED FUNCTION: train_mnist_conv\n",
        "def train_mnist_conv():\n",
        "    # Please write your code only where you are indicated.\n",
        "    # please do not remove model fitting inline comments.\n",
        "\n",
        "    # YOUR CODE STARTS HERE\n",
        "    class myCallback(tf.keras.callbacks.Callback):\n",
        "      def on_epoch_end(self, epoch, logs={}):\n",
        "        # Change 'accuracy' to 'acc' for the Coursera autograder!\n",
        "        if(logs.get('accuracy')>0.998): \n",
        "          print(\"\\nReached 99.8% accuracy so cancelling training!\")\n",
        "          self.model.stop_training = True\n",
        "\n",
        "    mnist = tf.keras.datasets.mnist\n",
        "    (training_images, training_labels), (test_images, test_labels) = mnist.load_data()\n",
        "    # YOUR CODE STARTS HERE\n",
        "    training_images=training_images.reshape(60000, 28, 28, 1)\n",
        "    training_images, test_images = training_images/255.0, test_images/255.0\n",
        "    test_images = test_images.reshape(10000, 28, 28, 1)\n",
        "    test_images=test_images/255.0\n",
        "    callbacks = myCallback()\n",
        "    # YOUR CODE ENDS HERE\n",
        "\n",
        "    model = tf.keras.models.Sequential([\n",
        "      tf.keras.layers.Conv2D(64, (3,3), activation='relu', input_shape=(28, 28, 1)),\n",
        "      tf.keras.layers.MaxPooling2D(2, 2),\n",
        "      tf.keras.layers.Flatten(),\n",
        "      tf.keras.layers.Dense(128, activation='relu'),\n",
        "      tf.keras.layers.Dense(10, activation='softmax')\n",
        "    ])\n",
        "\n",
        "    model.compile(optimizer='adam', loss='sparse_categorical_crossentropy', metrics=['accuracy'])\n",
        "    # model fitting\n",
        "    history = model.fit(training_images, training_labels, epochs=20, callbacks=[callbacks])\n",
        "    # model fitting\n",
        "    # Change 'accuracy' to 'acc' for the Coursera autograder!\n",
        "    return history.epoch, history.history['accuracy'][-1]"
      ],
      "execution_count": null,
      "outputs": []
    },
    {
      "cell_type": "code",
      "metadata": {
        "colab": {
          "base_uri": "https://localhost:8080/"
        },
        "id": "BtIAeLc84dYb",
        "outputId": "8c63dacd-68a3-498b-fd13-19144bcf0a12"
      },
      "source": [
        "_, _ = train_mnist_conv()"
      ],
      "execution_count": null,
      "outputs": [
        {
          "output_type": "stream",
          "text": [
            "Epoch 1/20\n",
            "1875/1875 [==============================] - 59s 31ms/step - loss: 0.1357 - accuracy: 0.9591\n",
            "Epoch 2/20\n",
            "1875/1875 [==============================] - 58s 31ms/step - loss: 0.0480 - accuracy: 0.9855\n",
            "Epoch 3/20\n",
            "1875/1875 [==============================] - 58s 31ms/step - loss: 0.0290 - accuracy: 0.9906\n",
            "Epoch 4/20\n",
            "1875/1875 [==============================] - 58s 31ms/step - loss: 0.0191 - accuracy: 0.9938\n",
            "Epoch 5/20\n",
            "1875/1875 [==============================] - 57s 31ms/step - loss: 0.0124 - accuracy: 0.9959\n",
            "Epoch 6/20\n",
            "1875/1875 [==============================] - 58s 31ms/step - loss: 0.0081 - accuracy: 0.9972\n",
            "Epoch 7/20\n",
            "1875/1875 [==============================] - 58s 31ms/step - loss: 0.0076 - accuracy: 0.9974\n",
            "Epoch 8/20\n",
            "1875/1875 [==============================] - 58s 31ms/step - loss: 0.0055 - accuracy: 0.9983\n",
            "\n",
            "Reached 99.8% accuracy so cancelling training!\n"
          ],
          "name": "stdout"
        }
      ]
    },
    {
      "cell_type": "code",
      "metadata": {
        "id": "QqslPboM5tFB"
      },
      "source": [
        ""
      ],
      "execution_count": null,
      "outputs": []
    }
  ]
}